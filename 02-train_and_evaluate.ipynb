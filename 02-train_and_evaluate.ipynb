{
 "cells": [
  {
   "cell_type": "markdown",
   "metadata": {},
   "source": [
    "# Load data"
   ]
  },
  {
   "cell_type": "code",
   "execution_count": 1,
   "metadata": {
    "collapsed": false
   },
   "outputs": [
    {
     "name": "stdout",
     "output_type": "stream",
     "text": [
      "('Dataset', (7784, 20, 20, 1), (7784,), (7784,))\n"
     ]
    }
   ],
   "source": [
    "from six.moves import cPickle as pickle\n",
    "pickle_file = 'frogs_all_20x20.pickle'\n",
    "with open(pickle_file, 'rb') as f:\n",
    "    save = pickle.load(f)\n",
    "    dataset = save['training_data']\n",
    "    species_labels = save['training_labels']\n",
    "    recording_ids = save['recording_ids']\n",
    "    del save  # hint to help gc free up memory\n",
    "    print('Dataset', dataset.shape, species_labels.shape, recording_ids.shape)\n"
   ]
  },
  {
   "cell_type": "code",
   "execution_count": 2,
   "metadata": {
    "collapsed": false
   },
   "outputs": [
    {
     "name": "stdout",
     "output_type": "stream",
     "text": [
      "Recording 0 accuracy: 100.0\n",
      "Recording 1 accuracy: 100.0\n",
      "Recording 2 accuracy: 100.0\n",
      "Recording 3 accuracy: 100.0\n",
      "Recording 4 accuracy: 100.0\n",
      "Recording 5 accuracy: 100.0\n",
      "Recording 6 accuracy: 100.0\n",
      "Recording 7 accuracy: 100.0\n",
      "Recording 8 accuracy: 100.0\n",
      "Recording 9 accuracy: 100.0\n",
      "Recording 10 accuracy: 100.0\n",
      "Recording 11 accuracy: 100.0\n",
      "Recording 12 accuracy: 100.0\n",
      "Recording 13 accuracy: 97.9899497487\n",
      "Recording 14 accuracy: 99.348534202\n",
      "Recording 15 accuracy: 99.3119266055\n",
      "Recording 16 accuracy: 100.0\n",
      "Recording 17 accuracy: 88.6075949367\n",
      "Recording 18 accuracy: 99.1803278689\n",
      "Recording 19 accuracy: 100.0\n",
      "Recording 20 accuracy: 99.6610169492\n",
      "Recording 21 accuracy: 99.5867768595\n",
      "Recording 22 accuracy: 100.0\n",
      "Recording 23 accuracy: 100.0\n",
      "Recording 24 accuracy: 92.8571428571\n",
      "Recording 25 accuracy: 100.0\n",
      "Recording 26 accuracy: 100.0\n",
      "Recording 27 accuracy: 100.0\n",
      "Recording 28 accuracy: 69.4444444444\n",
      "Recording 29 accuracy: 100.0\n",
      "Recording 30 accuracy: 100.0\n",
      "Recording 31 accuracy: 45.4545454545\n",
      "Recording 32 accuracy: 87.5\n",
      "Recording 33 accuracy: 100.0\n",
      "Recording 34 accuracy: 100.0\n",
      "Recording 35 accuracy: 100.0\n",
      "Recording 36 accuracy: 100.0\n",
      "Recording 37 accuracy: 100.0\n",
      "Recording 38 accuracy: 100.0\n",
      "Recording 39 accuracy: 100.0\n",
      "Recording 40 accuracy: 100.0\n",
      "Recording 41 accuracy: 100.0\n",
      "Recording 42 accuracy: 100.0\n",
      "Recording 43 accuracy: 100.0\n",
      "Recording 44 accuracy: 100.0\n",
      "Recording 45 accuracy: 100.0\n",
      "Recording 46 accuracy: 100.0\n",
      "Recording 47 accuracy: 100.0\n",
      "Recording 48 accuracy: 100.0\n",
      "Recording 49 accuracy: 100.0\n",
      "Recording 50 accuracy: 100.0\n",
      "Recording 51 accuracy: 100.0\n",
      "Recording 52 accuracy: 100.0\n",
      "Recording 53 accuracy: 100.0\n",
      "Recording 54 accuracy: 100.0\n"
     ]
    }
   ],
   "source": [
    "import numpy as np\n",
    "import common \n",
    "from sklearn.cross_validation import train_test_split\n",
    "def index(mylist, myvalue):\n",
    "    start = mylist.tolist().index(myvalue)\n",
    "    end = len(mylist) - mylist[::-1].tolist().index(myvalue)\n",
    "    return start, end\n",
    "\n",
    "\n",
    "\n",
    "def accuracy(predictions, labels):\n",
    "    return (100.0 * np.sum(np.argmax(predictions, 1) == np.argmax(labels, 1))/ predictions.shape[0])\n",
    "\n",
    "num_steps = 200\n",
    "batch_size = 16\n",
    "image_size = 20\n",
    "\n",
    "patch_size = 3\n",
    "depth = 16\n",
    "num_hidden = 128\n",
    "conv_stride = 2\n",
    "\n",
    "\n",
    "\n",
    "# Labels for the problem\n",
    "# In this case the 'hylaedactylus' class is chosen to be in target class\n",
    "# It's also possible to add multiple classes to the target class. For example target = [0, 2, 6] includes \n",
    "# AdenomeraAndre, hylaedactylus, LeptodactylusFuscus species.\n",
    "\n",
    "# ['AdenomeraAndre', 'Ameeregatrivittata', 'hylaedactylus', 'HylaMinuta', 'HypsiboasCinerascens', \n",
    "#           'HypsiboasCordobae', 'LeptodactylusFuscus', 'OsteocephalusOophagus', 'Rhinellagranulosa', 'ScinaxRuber']\n",
    "target = [0, 2, 6]\n",
    "target = [2]\n",
    "\n",
    "\n",
    "others = set(species_labels.tolist()) - set(target)\n",
    "labels = []\n",
    "for i, label in enumerate(species_labels):\n",
    "    if label in target:\n",
    "        labels.append([1, 0])\n",
    "    else:\n",
    "        labels.append([0, 1])\n",
    "labels = np.array(labels)\n",
    "\n",
    "final_predictions = np.empty((0,2))\n",
    "final_labels = np.empty((0,2))\n",
    "\n",
    "# LOOCV\n",
    "# With each cycle one recording is chosen as test set and all others are used as training set\n",
    "for i in range(int(np.max(recording_ids)) + 1):\n",
    "    start_index, end_index = index(recording_ids, i)\n",
    "    test_set = dataset[start_index:end_index]\n",
    "    test_labels = labels[start_index:end_index]\n",
    "    \n",
    "    train_set = np.vstack((dataset[0:start_index], dataset[end_index:dataset.shape[0]]))\n",
    "    train_labels = np.concatenate((labels[0:start_index], labels[end_index:labels.shape[0]]))\n",
    "    train_set, _, train_labels, _ = train_test_split(train_set, train_labels, test_size=0, random_state=0)\n",
    "    # TODO: randomize training set and labels\n",
    "    \n",
    "    test_predictions = common.train_cnn_model(num_steps, batch_size, image_size, train_set, train_labels, \n",
    "                                             test_set, verbose=0, seed=719)\n",
    "    final_predictions = np.vstack((final_predictions, test_predictions))\n",
    "    final_labels = np.vstack((final_labels, test_labels))\n",
    "    \n",
    "    print \"Recording \" + str(i) + \" accuracy: \" + str(accuracy(test_predictions, test_labels))    "
   ]
  },
  {
   "cell_type": "code",
   "execution_count": 3,
   "metadata": {
    "collapsed": false
   },
   "outputs": [
    {
     "name": "stdout",
     "output_type": "stream",
     "text": [
      "Accuracy: 99.3961973279\n",
      "AUC score: 0.999520655683\n",
      "F1 Score: 0.99499733901\n"
     ]
    }
   ],
   "source": [
    "print 'Accuracy: ' + str(accuracy(final_predictions, final_labels))\n",
    "#print final_predictions\n",
    "#print final_predictions\n",
    "\n",
    "from sklearn.metrics import roc_auc_score\n",
    "from sklearn.metrics import f1_score\n",
    "print 'AUC score: ' + str(roc_auc_score(final_labels, final_predictions))\n",
    "print 'F1 Score: ' + str(f1_score(np.argmax(final_labels, 1), np.argmax(final_predictions,1)))"
   ]
  }
 ],
 "metadata": {
  "kernelspec": {
   "display_name": "Python 2",
   "language": "python",
   "name": "python2"
  },
  "language_info": {
   "codemirror_mode": {
    "name": "ipython",
    "version": 2
   },
   "file_extension": ".py",
   "mimetype": "text/x-python",
   "name": "python",
   "nbconvert_exporter": "python",
   "pygments_lexer": "ipython2",
   "version": "2.7.6"
  }
 },
 "nbformat": 4,
 "nbformat_minor": 0
}
