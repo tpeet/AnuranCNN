{
 "cells": [
  {
   "cell_type": "markdown",
   "metadata": {},
   "source": [
    "# Hylaedactylus species vs other species"
   ]
  },
  {
   "cell_type": "code",
   "execution_count": 2,
   "metadata": {
    "collapsed": true
   },
   "outputs": [],
   "source": [
    "#import common\n",
    "from six.moves import cPickle as pickle\n",
    "import tensorflow as tf\n",
    "import numpy as np\n",
    "import common\n",
    "data_dir = '/media/kineteh/Stuff/ML/datasets/frogs/'"
   ]
  },
  {
   "cell_type": "markdown",
   "metadata": {},
   "source": [
    "# Read and segment training data\n",
    "* excerpts contains MFCC feature matrices (20x20 for each sample) (used for CNN and later saved as *.pickle file)\n",
    "* excerpts2 contains same amount of samples as excerpt, but instead of having MFCC-s from 20 frames for each segment, only one MFCC feature vector is calculated over the whole segment (used for other machine learning algorithms and later saved in *.csv format)"
   ]
  },
  {
   "cell_type": "code",
   "execution_count": 4,
   "metadata": {
    "collapsed": false
   },
   "outputs": [
    {
     "name": "stdout",
     "output_type": "stream",
     "text": [
      "\n",
      "\n",
      "Starting to preprocess data ...\n",
      "\n",
      "Processing \"AdenomeraAndre\"\n",
      "1. AdenomeraAndre_1.wav processed. Dimensions (signal): (48, 20, 20) | (48, 1, 20)\n",
      "2. AdenomeraAndre_2.wav processed. Dimensions (signal): (27, 20, 20) | (27, 1, 20)\n",
      "3. AdenomeraAndre_3.wav processed. Dimensions (signal): (21, 20, 20) | (21, 1, 20)\n",
      "4. AdenomeraAndre_4.wav processed. Dimensions (signal): (45, 20, 20) | (45, 1, 20)\n",
      "5. AdenomeraAndre_5.wav processed. Dimensions (signal): (24, 20, 20) | (24, 1, 20)\n",
      "6. AdenomeraAndre_6.wav processed. Dimensions (signal): (22, 20, 20) | (22, 1, 20)\n",
      "7. AdenomeraAndre_7.wav processed. Dimensions (signal): (15, 20, 20) | (15, 1, 20)\n",
      "8. AdenomeraAndre_8.wav processed. Dimensions (signal): (285, 20, 20) | (285, 1, 20)\n",
      "Class \"AdenomeraAndre\" processed. Dimensions (excerpts | labels): (487, 20, 20) | (487,) | (487, 1, 20)\n",
      "\n",
      "Processing \"Ameeregatrivittata\"\n",
      "9. Ameeregatrivittata_1.wav processed. Dimensions (signal): (84, 20, 20) | (84, 1, 20)\n",
      "10. Ameeregatrivittata_2.wav processed. Dimensions (signal): (89, 20, 20) | (89, 1, 20)\n",
      "11. Ameeregatrivittata_3.wav processed. Dimensions (signal): (13, 20, 20) | (13, 1, 20)\n",
      "12. Ameeregatrivittata_4.wav processed. Dimensions (signal): (54, 20, 20) | (54, 1, 20)\n",
      "13. Ameeregatrivittata_5.wav processed. Dimensions (signal): (126, 20, 20) | (126, 1, 20)\n",
      "Class \"Ameeregatrivittata\" processed. Dimensions (excerpts | labels): (366, 20, 20) | (366,) | (366, 1, 20)\n",
      "\n",
      "Processing \"hylaedactylus\"\n",
      "14. hylaedactylus_1.wav processed. Dimensions (signal): (199, 20, 20) | (199, 1, 20)\n",
      "15. hylaedactylus_10.wav processed. Dimensions (signal): (307, 20, 20) | (307, 1, 20)\n",
      "16. hylaedactylus_11.wav processed. Dimensions (signal): (436, 20, 20) | (436, 1, 20)\n",
      "17. hylaedactylus_2.wav processed. Dimensions (signal): (444, 20, 20) | (444, 1, 20)\n",
      "18. hylaedactylus_3.wav processed. Dimensions (signal): (79, 20, 20) | (79, 1, 20)\n",
      "19. hylaedactylus_4.wav processed. Dimensions (signal): (122, 20, 20) | (122, 1, 20)\n",
      "20. hylaedactylus_5.wav processed. Dimensions (signal): (310, 20, 20) | (310, 1, 20)\n",
      "21. hylaedactylus_6.wav processed. Dimensions (signal): (295, 20, 20) | (295, 1, 20)\n",
      "22. hylaedactylus_7.wav processed. Dimensions (signal): (242, 20, 20) | (242, 1, 20)\n",
      "23. hylaedactylus_8.wav processed. Dimensions (signal): (329, 20, 20) | (329, 1, 20)\n",
      "24. hylaedactylus_9.wav processed. Dimensions (signal): (321, 20, 20) | (321, 1, 20)\n",
      "Class \"hylaedactylus\" processed. Dimensions (excerpts | labels): (3084, 20, 20) | (3084,) | (3084, 1, 20)\n",
      "\n",
      "Processing \"HylaMinuta\"\n",
      "25. HylaMinuta_1.wav processed. Dimensions (signal): (28, 20, 20) | (28, 1, 20)\n",
      "26. HylaMinuta_10.wav processed. Dimensions (signal): (21, 20, 20) | (21, 1, 20)\n",
      "27. HylaMinuta_11.wav processed. Dimensions (signal): (26, 20, 20) | (26, 1, 20)\n",
      "28. HylaMinuta_2.wav processed. Dimensions (signal): (17, 20, 20) | (17, 1, 20)\n",
      "29. HylaMinuta_3.wav processed. Dimensions (signal): (36, 20, 20) | (36, 1, 20)\n",
      "30. HylaMinuta_4.wav processed. Dimensions (signal): (45, 20, 20) | (45, 1, 20)\n",
      "31. HylaMinuta_5.wav processed. Dimensions (signal): (7, 20, 20) | (7, 1, 20)\n",
      "[ 0.          0.          0.         ..., -0.00298627 -0.01358824\n",
      "  0.01353525]\n",
      "32. HylaMinuta_6.wav processed. Dimensions (signal): (22, 20, 20) | (22, 1, 20)\n",
      "33. HylaMinuta_7.wav processed. Dimensions (signal): (8, 20, 20) | (8, 1, 20)\n",
      "34. HylaMinuta_8.wav processed. Dimensions (signal): (23, 20, 20) | (23, 1, 20)\n",
      "35. HylaMinuta_9.wav processed. Dimensions (signal): (8, 20, 20) | (8, 1, 20)\n",
      "Class \"HylaMinuta\" processed. Dimensions (excerpts | labels): (241, 20, 20) | (241,) | (241, 1, 20)\n",
      "\n",
      "Processing \"HypsiboasCinerascens\"\n",
      "36. HypsiboasCinerascens_1.wav processed. Dimensions (signal): (227, 20, 20) | (227, 1, 20)\n",
      "37. HypsiboasCinerascens_2.wav processed. Dimensions (signal): (116, 20, 20) | (116, 1, 20)\n",
      "Class \"HypsiboasCinerascens\" processed. Dimensions (excerpts | labels): (343, 20, 20) | (343,) | (343, 1, 20)\n",
      "\n",
      "Processing \"HypsiboasCordobae\"\n",
      "38. HypsiboasCordobae_1.wav processed. Dimensions (signal): (323, 20, 20) | (323, 1, 20)\n",
      "39. HypsiboasCordobae_2.wav processed. Dimensions (signal): (483, 20, 20) | (483, 1, 20)\n",
      "40. HypsiboasCordobae_3.wav processed. Dimensions (signal): (247, 20, 20) | (247, 1, 20)\n",
      "41. HypsiboasCordobae_4.wav processed. Dimensions (signal): (115, 20, 20) | (115, 1, 20)\n",
      "Class \"HypsiboasCordobae\" processed. Dimensions (excerpts | labels): (1168, 20, 20) | (1168,) | (1168, 1, 20)\n",
      "\n",
      "Processing \"LeptodactylusFuscus\"\n",
      "42. LeptodactylusFuscus_1.wav processed. Dimensions (signal): (15, 20, 20) | (15, 1, 20)\n",
      "43. LeptodactylusFuscus_2.wav processed. Dimensions (signal): (24, 20, 20) | (24, 1, 20)\n",
      "44. LeptodactylusFuscus_3.wav processed. Dimensions (signal): (16, 20, 20) | (16, 1, 20)\n",
      "45. LeptodactylusFuscus_4.wav processed. Dimensions (signal): (186, 20, 20) | (186, 1, 20)\n",
      "Class \"LeptodactylusFuscus\" processed. Dimensions (excerpts | labels): (241, 20, 20) | (241,) | (241, 1, 20)\n",
      "\n",
      "Processing \"OsteocephalusOophagus\"\n",
      "46. OsteocephalusOophagus_1.wav processed. Dimensions (signal): (3, 20, 20) | (3, 1, 20)\n",
      "47. OsteocephalusOophagus_2.wav processed. Dimensions (signal): (72, 20, 20) | (72, 1, 20)\n",
      "48. OsteocephalusOophagus_3.wav processed. Dimensions (signal): (28, 20, 20) | (28, 1, 20)\n",
      "Class \"OsteocephalusOophagus\" processed. Dimensions (excerpts | labels): (103, 20, 20) | (103,) | (103, 1, 20)\n",
      "\n",
      "Processing \"Rhinellagranulosa\"\n",
      "49. Rhinellagranulosa_1.wav processed. Dimensions (signal): (267, 20, 20) | (267, 1, 20)\n",
      "50. Rhinellagranulosa_2.wav processed. Dimensions (signal): (231, 20, 20) | (231, 1, 20)\n",
      "51. Rhinellagranulosa_3.wav processed. Dimensions (signal): (1071, 20, 20) | (1071, 1, 20)\n",
      "Class \"Rhinellagranulosa\" processed. Dimensions (excerpts | labels): (1569, 20, 20) | (1569,) | (1569, 1, 20)\n",
      "\n",
      "Processing \"ScinaxRuber\"\n",
      "52. ScinaxRuber_1.wav processed. Dimensions (signal): (78, 20, 20) | (78, 1, 20)\n",
      "53. ScinaxRuber_2.wav processed. Dimensions (signal): (11, 20, 20) | (11, 1, 20)\n",
      "54. ScinaxRuber_3.wav processed. Dimensions (signal): (74, 20, 20) | (74, 1, 20)\n",
      "55. ScinaxRuber_4.wav processed. Dimensions (signal): (19, 20, 20) | (19, 1, 20)\n",
      "Class \"ScinaxRuber\" processed. Dimensions (excerpts | labels): (182, 20, 20) | (182,) | (182, 1, 20)\n",
      "\n",
      "Preprocessing finished\n",
      "Excerpts shape: (7784, 20, 20)\n",
      "Juan Excerpts shape: (7784, 1, 20)\n",
      "Labels shape: (7784,)\n",
      "Recording IDs shape: (7784,)\n"
     ]
    }
   ],
   "source": [
    "classes = ['AdenomeraAndre', 'Ameeregatrivittata', 'hylaedactylus', 'HylaMinuta', 'HypsiboasCinerascens', \n",
    "           'HypsiboasCordobae', 'LeptodactylusFuscus', 'OsteocephalusOophagus', 'Rhinellagranulosa', 'ScinaxRuber']\n",
    "excerpts, excerpts2, labels, record_ids = common.segment_files(data_dir, classes, verbose=5)\n"
   ]
  },
  {
   "cell_type": "markdown",
   "metadata": {},
   "source": [
    "# Save MFCC feature vectors to CSV file\n",
    "Each row represents one segment and the format is: mfcc1, mfcc2, ..., mfcc20, recording_id, class_name"
   ]
  },
  {
   "cell_type": "code",
   "execution_count": 5,
   "metadata": {
    "collapsed": false
   },
   "outputs": [],
   "source": [
    "import csv\n",
    "with open('Anuran_dataset_20_MFCCs_v2.csv', 'wb') as csvfile:\n",
    "    writer = csv.writer(csvfile, delimiter=',',\n",
    "                            quotechar='|', quoting=csv.QUOTE_MINIMAL)\n",
    "    for i, excerpt in enumerate(excerpts2):\n",
    "        csv_row = excerpt[0].astype(np.str).tolist() + np.array([record_ids[i]]).astype(np.str).tolist() + [classes[int(labels[i])]]\n",
    "        writer.writerow(csv_row)"
   ]
  },
  {
   "cell_type": "markdown",
   "metadata": {},
   "source": [
    "# Read and segment test data"
   ]
  },
  {
   "cell_type": "markdown",
   "metadata": {},
   "source": [
    "# Save MFCC feature maps to pickle file\n",
    "\n",
    "Also randomizes and divides training data into training and validation datasets"
   ]
  },
  {
   "cell_type": "code",
   "execution_count": 6,
   "metadata": {
    "collapsed": false
   },
   "outputs": [
    {
     "name": "stdout",
     "output_type": "stream",
     "text": [
      "Data before reshape\n",
      "Training set: (7784, 20, 20) | (7784,)\n",
      "Validation set: (0,) | (0,)\n",
      "Test set: (0,) | (0,)\n",
      "(7784, 20, 20)\n",
      "\n",
      "Training set: (7784, 20, 20, 1) | (7784,)\n",
      "Validation set: (0,) | (0,)\n",
      "Test set: (0,) | (0,)\n",
      "Data saved!\n"
     ]
    }
   ],
   "source": [
    "common.save_data(\"frogs_all_20x20.pickle\", excerpts, labels, record_ids, divide=False, testing_size=0.0, validation_size=0.0, verbose=5)"
   ]
  }
 ],
 "metadata": {
  "kernelspec": {
   "display_name": "Python 2",
   "language": "python",
   "name": "python2"
  },
  "language_info": {
   "codemirror_mode": {
    "name": "ipython",
    "version": 2
   },
   "file_extension": ".py",
   "mimetype": "text/x-python",
   "name": "python",
   "nbconvert_exporter": "python",
   "pygments_lexer": "ipython2",
   "version": "2.7.6"
  }
 },
 "nbformat": 4,
 "nbformat_minor": 0
}
